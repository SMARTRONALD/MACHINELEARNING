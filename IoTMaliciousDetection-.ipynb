{
 "cells": [
  {
   "cell_type": "code",
   "execution_count": 200,
   "metadata": {},
   "outputs": [],
   "source": [
    "import pandas as pd\n",
    "import pickle \n",
    "import matplotlib.pyplot as plt\n",
    "import ipywidgets as widgets\n",
    "from sklearn.model_selection import train_test_split, GridSearchCV\n",
    "from sklearn.ensemble import RandomForestClassifier\n",
    "from sklearn.metrics import ConfusionMatrixDisplay, classification_report, confusion_matrix\n",
    "from teaching_tools.widgets import ConfusionMatrixWidget\n"
   ]
  },
  {
   "cell_type": "code",
   "execution_count": 168,
   "metadata": {},
   "outputs": [],
   "source": [
    "filepath = r\"/users/rsmart/Downloads/iot23_combined.csv\"\n",
    "\n",
    "range_drop = range(26)\n",
    "def wrangle(filepath):\n",
    "    df = pd.read_csv(filepath)\n",
    "\n",
    "    # Dropping leaky columns\n",
    "    drop_columns = []\n",
    "    #Binary Encoding of the Target  \n",
    "    df[\"Malicious\"]= (df[\"label\"]== \"Malicious\").astype(int)\n",
    "    #Identifying the Low cardanality features\n",
    "    for x in range_drop:\n",
    "        p = df.columns[x]\n",
    "        if df[p].nunique() == 2 and p != \"Malicious\":\n",
    "            drop_columns.append(p)\n",
    "       \n",
    "    df.drop(columns=(drop_columns), inplace=True)\n",
    "    \n",
    "    return df       \n",
    "\n",
    " \n",
    "\n"
   ]
  },
  {
   "cell_type": "code",
   "execution_count": 169,
   "metadata": {},
   "outputs": [
    {
     "name": "stdout",
     "output_type": "stream",
     "text": [
      "<class 'pandas.core.frame.DataFrame'>\n",
      "RangeIndex: 1246750 entries, 0 to 1246749\n",
      "Data columns (total 10 columns):\n",
      " #   Column         Non-Null Count    Dtype  \n",
      "---  ------         --------------    -----  \n",
      " 0   Unnamed: 0     1246750 non-null  int64  \n",
      " 1   duration       1246750 non-null  float64\n",
      " 2   orig_bytes     1246750 non-null  int64  \n",
      " 3   resp_bytes     1246750 non-null  int64  \n",
      " 4   missed_bytes   1246750 non-null  float64\n",
      " 5   orig_pkts      1246750 non-null  float64\n",
      " 6   orig_ip_bytes  1246750 non-null  float64\n",
      " 7   resp_pkts      1246750 non-null  float64\n",
      " 8   resp_ip_bytes  1246750 non-null  float64\n",
      " 9   Malicious      1246750 non-null  int64  \n",
      "dtypes: float64(6), int64(4)\n",
      "memory usage: 95.1 MB\n",
      "None\n",
      "(1246750, 10)\n"
     ]
    }
   ],
   "source": [
    "df = wrangle(filepath)\n",
    "#print(df.head())\n",
    "print(df.info())\n",
    "print(df.shape)"
   ]
  },
  {
   "cell_type": "code",
   "execution_count": 170,
   "metadata": {},
   "outputs": [
    {
     "data": {
      "image/png": "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",
      "text/plain": [
       "<Figure size 640x480 with 1 Axes>"
      ]
     },
     "metadata": {},
     "output_type": "display_data"
    }
   ],
   "source": [
    "#Comparison of the Malicious and Benign connections\n",
    "\n",
    "df[\"Malicious\"].value_counts(normalize=True).plot(\n",
    "    kind=\"bar\",\n",
    "    xlabel=\"Class\",\n",
    "    ylabel=\"Relatively Frequency\",\n",
    "    title=\"Class Balance\"\n",
    ");\n"
   ]
  },
  {
   "cell_type": "code",
   "execution_count": 171,
   "metadata": {},
   "outputs": [
    {
     "name": "stdout",
     "output_type": "stream",
     "text": [
      "X shape: (1246750, 9)\n",
      "y shape: (1246750,)\n",
      "X_train shape: (997400, 9)\n",
      "y_train shape: (997400,)\n",
      "X_test shape: (249350, 9)\n",
      "y_test shape: (249350,)\n"
     ]
    }
   ],
   "source": [
    "#From the Figure above, our dataset is imbalanced so we will need to sample the data\n",
    "\n",
    "#print(df[\"Malicious\"].value_counts())\n",
    "\n",
    "#Spliting the clean Data into Target and Feature Vector\n",
    "\n",
    "target = \"Malicious\"\n",
    "X = df.drop(columns=target)\n",
    "y=df[target]\n",
    "\n",
    "print(\"X shape:\", X.shape)\n",
    "print(\"y shape:\", y.shape)\n",
    "\n",
    "#Splitting the clean Data into the Training and Test Sets(Using 20% of our total data as test set)\n",
    "\n",
    "X_train, X_test, y_train, y_test = train_test_split(\n",
    "    X, y, test_size=0.2, random_state=42\n",
    ")\n",
    "\n",
    "print(\"X_train shape:\", X_train.shape)\n",
    "print(\"y_train shape:\", y_train.shape)\n",
    "print(\"X_test shape:\", X_test.shape)\n",
    "print(\"y_test shape:\", y_test.shape)"
   ]
  },
  {
   "cell_type": "code",
   "execution_count": 172,
   "metadata": {},
   "outputs": [
    {
     "name": "stdout",
     "output_type": "stream",
     "text": [
      "Baseline Accuracy: 0.8407\n"
     ]
    }
   ],
   "source": [
    "#Model baseline accuracy score\n",
    "acc_baseline = y_train.value_counts(normalize=True).max()\n",
    "print(\"Baseline Accuracy:\", round(acc_baseline, 4))"
   ]
  },
  {
   "cell_type": "code",
   "execution_count": 174,
   "metadata": {},
   "outputs": [],
   "source": [
    "predictor = RandomForestClassifier()"
   ]
  },
  {
   "cell_type": "code",
   "execution_count": 175,
   "metadata": {},
   "outputs": [
    {
     "data": {
      "text/plain": [
       "{'max_depth': range(18, 21), 'n_estimators': range(79, 81)}"
      ]
     },
     "execution_count": 175,
     "metadata": {},
     "output_type": "execute_result"
    }
   ],
   "source": [
    "#Parameter Grid Tunning\n",
    "\n",
    "params = {\n",
    "    \"max_depth\": range(18,21,1),\n",
    "    \"n_estimators\": range(79,81,1)\n",
    "}\n",
    "\n",
    "params"
   ]
  },
  {
   "cell_type": "code",
   "execution_count": 176,
   "metadata": {},
   "outputs": [
    {
     "data": {
      "text/html": [
       "<style>#sk-container-id-32 {color: black;background-color: white;}#sk-container-id-32 pre{padding: 0;}#sk-container-id-32 div.sk-toggleable {background-color: white;}#sk-container-id-32 label.sk-toggleable__label {cursor: pointer;display: block;width: 100%;margin-bottom: 0;padding: 0.3em;box-sizing: border-box;text-align: center;}#sk-container-id-32 label.sk-toggleable__label-arrow:before {content: \"▸\";float: left;margin-right: 0.25em;color: #696969;}#sk-container-id-32 label.sk-toggleable__label-arrow:hover:before {color: black;}#sk-container-id-32 div.sk-estimator:hover label.sk-toggleable__label-arrow:before {color: black;}#sk-container-id-32 div.sk-toggleable__content {max-height: 0;max-width: 0;overflow: hidden;text-align: left;background-color: #f0f8ff;}#sk-container-id-32 div.sk-toggleable__content pre {margin: 0.2em;color: black;border-radius: 0.25em;background-color: #f0f8ff;}#sk-container-id-32 input.sk-toggleable__control:checked~div.sk-toggleable__content {max-height: 200px;max-width: 100%;overflow: auto;}#sk-container-id-32 input.sk-toggleable__control:checked~label.sk-toggleable__label-arrow:before {content: \"▾\";}#sk-container-id-32 div.sk-estimator input.sk-toggleable__control:checked~label.sk-toggleable__label {background-color: #d4ebff;}#sk-container-id-32 div.sk-label input.sk-toggleable__control:checked~label.sk-toggleable__label {background-color: #d4ebff;}#sk-container-id-32 input.sk-hidden--visually {border: 0;clip: rect(1px 1px 1px 1px);clip: rect(1px, 1px, 1px, 1px);height: 1px;margin: -1px;overflow: hidden;padding: 0;position: absolute;width: 1px;}#sk-container-id-32 div.sk-estimator {font-family: monospace;background-color: #f0f8ff;border: 1px dotted black;border-radius: 0.25em;box-sizing: border-box;margin-bottom: 0.5em;}#sk-container-id-32 div.sk-estimator:hover {background-color: #d4ebff;}#sk-container-id-32 div.sk-parallel-item::after {content: \"\";width: 100%;border-bottom: 1px solid gray;flex-grow: 1;}#sk-container-id-32 div.sk-label:hover label.sk-toggleable__label {background-color: #d4ebff;}#sk-container-id-32 div.sk-serial::before {content: \"\";position: absolute;border-left: 1px solid gray;box-sizing: border-box;top: 0;bottom: 0;left: 50%;z-index: 0;}#sk-container-id-32 div.sk-serial {display: flex;flex-direction: column;align-items: center;background-color: white;padding-right: 0.2em;padding-left: 0.2em;position: relative;}#sk-container-id-32 div.sk-item {position: relative;z-index: 1;}#sk-container-id-32 div.sk-parallel {display: flex;align-items: stretch;justify-content: center;background-color: white;position: relative;}#sk-container-id-32 div.sk-item::before, #sk-container-id-32 div.sk-parallel-item::before {content: \"\";position: absolute;border-left: 1px solid gray;box-sizing: border-box;top: 0;bottom: 0;left: 50%;z-index: -1;}#sk-container-id-32 div.sk-parallel-item {display: flex;flex-direction: column;z-index: 1;position: relative;background-color: white;}#sk-container-id-32 div.sk-parallel-item:first-child::after {align-self: flex-end;width: 50%;}#sk-container-id-32 div.sk-parallel-item:last-child::after {align-self: flex-start;width: 50%;}#sk-container-id-32 div.sk-parallel-item:only-child::after {width: 0;}#sk-container-id-32 div.sk-dashed-wrapped {border: 1px dashed gray;margin: 0 0.4em 0.5em 0.4em;box-sizing: border-box;padding-bottom: 0.4em;background-color: white;}#sk-container-id-32 div.sk-label label {font-family: monospace;font-weight: bold;display: inline-block;line-height: 1.2em;}#sk-container-id-32 div.sk-label-container {text-align: center;}#sk-container-id-32 div.sk-container {/* jupyter's `normalize.less` sets `[hidden] { display: none; }` but bootstrap.min.css set `[hidden] { display: none !important; }` so we also need the `!important` here to be able to override the default hidden behavior on the sphinx rendered scikit-learn.org. See: https://github.com/scikit-learn/scikit-learn/issues/21755 */display: inline-block !important;position: relative;}#sk-container-id-32 div.sk-text-repr-fallback {display: none;}</style><div id=\"sk-container-id-32\" class=\"sk-top-container\"><div class=\"sk-text-repr-fallback\"><pre>GridSearchCV(cv=5, estimator=RandomForestClassifier(), n_jobs=-1,\n",
       "             param_grid={&#x27;max_depth&#x27;: range(18, 21),\n",
       "                         &#x27;n_estimators&#x27;: range(79, 81)},\n",
       "             verbose=1)</pre><b>In a Jupyter environment, please rerun this cell to show the HTML representation or trust the notebook. <br />On GitHub, the HTML representation is unable to render, please try loading this page with nbviewer.org.</b></div><div class=\"sk-container\" hidden><div class=\"sk-item sk-dashed-wrapped\"><div class=\"sk-label-container\"><div class=\"sk-label sk-toggleable\"><input class=\"sk-toggleable__control sk-hidden--visually\" id=\"sk-estimator-id-54\" type=\"checkbox\" ><label for=\"sk-estimator-id-54\" class=\"sk-toggleable__label sk-toggleable__label-arrow\">GridSearchCV</label><div class=\"sk-toggleable__content\"><pre>GridSearchCV(cv=5, estimator=RandomForestClassifier(), n_jobs=-1,\n",
       "             param_grid={&#x27;max_depth&#x27;: range(18, 21),\n",
       "                         &#x27;n_estimators&#x27;: range(79, 81)},\n",
       "             verbose=1)</pre></div></div></div><div class=\"sk-parallel\"><div class=\"sk-parallel-item\"><div class=\"sk-item\"><div class=\"sk-label-container\"><div class=\"sk-label sk-toggleable\"><input class=\"sk-toggleable__control sk-hidden--visually\" id=\"sk-estimator-id-55\" type=\"checkbox\" ><label for=\"sk-estimator-id-55\" class=\"sk-toggleable__label sk-toggleable__label-arrow\">estimator: RandomForestClassifier</label><div class=\"sk-toggleable__content\"><pre>RandomForestClassifier()</pre></div></div></div><div class=\"sk-serial\"><div class=\"sk-item\"><div class=\"sk-estimator sk-toggleable\"><input class=\"sk-toggleable__control sk-hidden--visually\" id=\"sk-estimator-id-56\" type=\"checkbox\" ><label for=\"sk-estimator-id-56\" class=\"sk-toggleable__label sk-toggleable__label-arrow\">RandomForestClassifier</label><div class=\"sk-toggleable__content\"><pre>RandomForestClassifier()</pre></div></div></div></div></div></div></div></div></div></div>"
      ],
      "text/plain": [
       "GridSearchCV(cv=5, estimator=RandomForestClassifier(), n_jobs=-1,\n",
       "             param_grid={'max_depth': range(18, 21),\n",
       "                         'n_estimators': range(79, 81)},\n",
       "             verbose=1)"
      ]
     },
     "execution_count": 176,
     "metadata": {},
     "output_type": "execute_result"
    }
   ],
   "source": [
    "#Creating the Model Using GridSearchCV\n",
    "\n",
    "model = GridSearchCV(\n",
    "    predictor,\n",
    "    param_grid=params,\n",
    "    cv=5,\n",
    "    n_jobs=-1,\n",
    "    verbose=1 \n",
    ")\n",
    "\n",
    "model"
   ]
  },
  {
   "cell_type": "code",
   "execution_count": 179,
   "metadata": {},
   "outputs": [
    {
     "name": "stdout",
     "output_type": "stream",
     "text": [
      "Fitting 5 folds for each of 6 candidates, totalling 30 fits\n"
     ]
    },
    {
     "data": {
      "text/html": [
       "<style>#sk-container-id-33 {color: black;background-color: white;}#sk-container-id-33 pre{padding: 0;}#sk-container-id-33 div.sk-toggleable {background-color: white;}#sk-container-id-33 label.sk-toggleable__label {cursor: pointer;display: block;width: 100%;margin-bottom: 0;padding: 0.3em;box-sizing: border-box;text-align: center;}#sk-container-id-33 label.sk-toggleable__label-arrow:before {content: \"▸\";float: left;margin-right: 0.25em;color: #696969;}#sk-container-id-33 label.sk-toggleable__label-arrow:hover:before {color: black;}#sk-container-id-33 div.sk-estimator:hover label.sk-toggleable__label-arrow:before {color: black;}#sk-container-id-33 div.sk-toggleable__content {max-height: 0;max-width: 0;overflow: hidden;text-align: left;background-color: #f0f8ff;}#sk-container-id-33 div.sk-toggleable__content pre {margin: 0.2em;color: black;border-radius: 0.25em;background-color: #f0f8ff;}#sk-container-id-33 input.sk-toggleable__control:checked~div.sk-toggleable__content {max-height: 200px;max-width: 100%;overflow: auto;}#sk-container-id-33 input.sk-toggleable__control:checked~label.sk-toggleable__label-arrow:before {content: \"▾\";}#sk-container-id-33 div.sk-estimator input.sk-toggleable__control:checked~label.sk-toggleable__label {background-color: #d4ebff;}#sk-container-id-33 div.sk-label input.sk-toggleable__control:checked~label.sk-toggleable__label {background-color: #d4ebff;}#sk-container-id-33 input.sk-hidden--visually {border: 0;clip: rect(1px 1px 1px 1px);clip: rect(1px, 1px, 1px, 1px);height: 1px;margin: -1px;overflow: hidden;padding: 0;position: absolute;width: 1px;}#sk-container-id-33 div.sk-estimator {font-family: monospace;background-color: #f0f8ff;border: 1px dotted black;border-radius: 0.25em;box-sizing: border-box;margin-bottom: 0.5em;}#sk-container-id-33 div.sk-estimator:hover {background-color: #d4ebff;}#sk-container-id-33 div.sk-parallel-item::after {content: \"\";width: 100%;border-bottom: 1px solid gray;flex-grow: 1;}#sk-container-id-33 div.sk-label:hover label.sk-toggleable__label {background-color: #d4ebff;}#sk-container-id-33 div.sk-serial::before {content: \"\";position: absolute;border-left: 1px solid gray;box-sizing: border-box;top: 0;bottom: 0;left: 50%;z-index: 0;}#sk-container-id-33 div.sk-serial {display: flex;flex-direction: column;align-items: center;background-color: white;padding-right: 0.2em;padding-left: 0.2em;position: relative;}#sk-container-id-33 div.sk-item {position: relative;z-index: 1;}#sk-container-id-33 div.sk-parallel {display: flex;align-items: stretch;justify-content: center;background-color: white;position: relative;}#sk-container-id-33 div.sk-item::before, #sk-container-id-33 div.sk-parallel-item::before {content: \"\";position: absolute;border-left: 1px solid gray;box-sizing: border-box;top: 0;bottom: 0;left: 50%;z-index: -1;}#sk-container-id-33 div.sk-parallel-item {display: flex;flex-direction: column;z-index: 1;position: relative;background-color: white;}#sk-container-id-33 div.sk-parallel-item:first-child::after {align-self: flex-end;width: 50%;}#sk-container-id-33 div.sk-parallel-item:last-child::after {align-self: flex-start;width: 50%;}#sk-container-id-33 div.sk-parallel-item:only-child::after {width: 0;}#sk-container-id-33 div.sk-dashed-wrapped {border: 1px dashed gray;margin: 0 0.4em 0.5em 0.4em;box-sizing: border-box;padding-bottom: 0.4em;background-color: white;}#sk-container-id-33 div.sk-label label {font-family: monospace;font-weight: bold;display: inline-block;line-height: 1.2em;}#sk-container-id-33 div.sk-label-container {text-align: center;}#sk-container-id-33 div.sk-container {/* jupyter's `normalize.less` sets `[hidden] { display: none; }` but bootstrap.min.css set `[hidden] { display: none !important; }` so we also need the `!important` here to be able to override the default hidden behavior on the sphinx rendered scikit-learn.org. See: https://github.com/scikit-learn/scikit-learn/issues/21755 */display: inline-block !important;position: relative;}#sk-container-id-33 div.sk-text-repr-fallback {display: none;}</style><div id=\"sk-container-id-33\" class=\"sk-top-container\"><div class=\"sk-text-repr-fallback\"><pre>GridSearchCV(cv=5, estimator=RandomForestClassifier(), n_jobs=-1,\n",
       "             param_grid={&#x27;max_depth&#x27;: range(18, 21),\n",
       "                         &#x27;n_estimators&#x27;: range(79, 81)},\n",
       "             verbose=1)</pre><b>In a Jupyter environment, please rerun this cell to show the HTML representation or trust the notebook. <br />On GitHub, the HTML representation is unable to render, please try loading this page with nbviewer.org.</b></div><div class=\"sk-container\" hidden><div class=\"sk-item sk-dashed-wrapped\"><div class=\"sk-label-container\"><div class=\"sk-label sk-toggleable\"><input class=\"sk-toggleable__control sk-hidden--visually\" id=\"sk-estimator-id-57\" type=\"checkbox\" ><label for=\"sk-estimator-id-57\" class=\"sk-toggleable__label sk-toggleable__label-arrow\">GridSearchCV</label><div class=\"sk-toggleable__content\"><pre>GridSearchCV(cv=5, estimator=RandomForestClassifier(), n_jobs=-1,\n",
       "             param_grid={&#x27;max_depth&#x27;: range(18, 21),\n",
       "                         &#x27;n_estimators&#x27;: range(79, 81)},\n",
       "             verbose=1)</pre></div></div></div><div class=\"sk-parallel\"><div class=\"sk-parallel-item\"><div class=\"sk-item\"><div class=\"sk-label-container\"><div class=\"sk-label sk-toggleable\"><input class=\"sk-toggleable__control sk-hidden--visually\" id=\"sk-estimator-id-58\" type=\"checkbox\" ><label for=\"sk-estimator-id-58\" class=\"sk-toggleable__label sk-toggleable__label-arrow\">estimator: RandomForestClassifier</label><div class=\"sk-toggleable__content\"><pre>RandomForestClassifier()</pre></div></div></div><div class=\"sk-serial\"><div class=\"sk-item\"><div class=\"sk-estimator sk-toggleable\"><input class=\"sk-toggleable__control sk-hidden--visually\" id=\"sk-estimator-id-59\" type=\"checkbox\" ><label for=\"sk-estimator-id-59\" class=\"sk-toggleable__label sk-toggleable__label-arrow\">RandomForestClassifier</label><div class=\"sk-toggleable__content\"><pre>RandomForestClassifier()</pre></div></div></div></div></div></div></div></div></div></div>"
      ],
      "text/plain": [
       "GridSearchCV(cv=5, estimator=RandomForestClassifier(), n_jobs=-1,\n",
       "             param_grid={'max_depth': range(18, 21),\n",
       "                         'n_estimators': range(79, 81)},\n",
       "             verbose=1)"
      ]
     },
     "execution_count": 179,
     "metadata": {},
     "output_type": "execute_result"
    }
   ],
   "source": [
    "# Fitting the Model with the Over_Sampled Training Data Set\n",
    "\n",
    "model.fit(X_train, y_train)"
   ]
  },
  {
   "cell_type": "code",
   "execution_count": 180,
   "metadata": {},
   "outputs": [
    {
     "data": {
      "text/html": [
       "<div>\n",
       "<style scoped>\n",
       "    .dataframe tbody tr th:only-of-type {\n",
       "        vertical-align: middle;\n",
       "    }\n",
       "\n",
       "    .dataframe tbody tr th {\n",
       "        vertical-align: top;\n",
       "    }\n",
       "\n",
       "    .dataframe thead th {\n",
       "        text-align: right;\n",
       "    }\n",
       "</style>\n",
       "<table border=\"1\" class=\"dataframe\">\n",
       "  <thead>\n",
       "    <tr style=\"text-align: right;\">\n",
       "      <th></th>\n",
       "      <th>mean_fit_time</th>\n",
       "      <th>std_fit_time</th>\n",
       "      <th>mean_score_time</th>\n",
       "      <th>std_score_time</th>\n",
       "      <th>param_max_depth</th>\n",
       "      <th>param_n_estimators</th>\n",
       "      <th>params</th>\n",
       "      <th>split0_test_score</th>\n",
       "      <th>split1_test_score</th>\n",
       "      <th>split2_test_score</th>\n",
       "      <th>split3_test_score</th>\n",
       "      <th>split4_test_score</th>\n",
       "      <th>mean_test_score</th>\n",
       "      <th>std_test_score</th>\n",
       "      <th>rank_test_score</th>\n",
       "    </tr>\n",
       "  </thead>\n",
       "  <tbody>\n",
       "    <tr>\n",
       "      <th>0</th>\n",
       "      <td>424.272573</td>\n",
       "      <td>7.380152</td>\n",
       "      <td>4.340239</td>\n",
       "      <td>0.907204</td>\n",
       "      <td>18</td>\n",
       "      <td>79</td>\n",
       "      <td>{'max_depth': 18, 'n_estimators': 79}</td>\n",
       "      <td>0.898085</td>\n",
       "      <td>0.897920</td>\n",
       "      <td>0.898501</td>\n",
       "      <td>0.897839</td>\n",
       "      <td>0.897864</td>\n",
       "      <td>0.898042</td>\n",
       "      <td>0.000245</td>\n",
       "      <td>2</td>\n",
       "    </tr>\n",
       "    <tr>\n",
       "      <th>1</th>\n",
       "      <td>438.983168</td>\n",
       "      <td>5.907141</td>\n",
       "      <td>3.873370</td>\n",
       "      <td>0.517895</td>\n",
       "      <td>18</td>\n",
       "      <td>80</td>\n",
       "      <td>{'max_depth': 18, 'n_estimators': 80}</td>\n",
       "      <td>0.898140</td>\n",
       "      <td>0.897990</td>\n",
       "      <td>0.898436</td>\n",
       "      <td>0.897920</td>\n",
       "      <td>0.897960</td>\n",
       "      <td>0.898089</td>\n",
       "      <td>0.000189</td>\n",
       "      <td>1</td>\n",
       "    </tr>\n",
       "    <tr>\n",
       "      <th>2</th>\n",
       "      <td>442.685777</td>\n",
       "      <td>4.437210</td>\n",
       "      <td>4.736233</td>\n",
       "      <td>0.944369</td>\n",
       "      <td>19</td>\n",
       "      <td>79</td>\n",
       "      <td>{'max_depth': 19, 'n_estimators': 79}</td>\n",
       "      <td>0.897930</td>\n",
       "      <td>0.897905</td>\n",
       "      <td>0.898361</td>\n",
       "      <td>0.897689</td>\n",
       "      <td>0.898110</td>\n",
       "      <td>0.897999</td>\n",
       "      <td>0.000225</td>\n",
       "      <td>4</td>\n",
       "    </tr>\n",
       "    <tr>\n",
       "      <th>3</th>\n",
       "      <td>461.834002</td>\n",
       "      <td>8.045891</td>\n",
       "      <td>5.188608</td>\n",
       "      <td>1.163245</td>\n",
       "      <td>19</td>\n",
       "      <td>80</td>\n",
       "      <td>{'max_depth': 19, 'n_estimators': 80}</td>\n",
       "      <td>0.898110</td>\n",
       "      <td>0.897754</td>\n",
       "      <td>0.898461</td>\n",
       "      <td>0.897839</td>\n",
       "      <td>0.897844</td>\n",
       "      <td>0.898002</td>\n",
       "      <td>0.000259</td>\n",
       "      <td>3</td>\n",
       "    </tr>\n",
       "    <tr>\n",
       "      <th>4</th>\n",
       "      <td>485.928162</td>\n",
       "      <td>53.796046</td>\n",
       "      <td>5.614854</td>\n",
       "      <td>1.418159</td>\n",
       "      <td>20</td>\n",
       "      <td>79</td>\n",
       "      <td>{'max_depth': 20, 'n_estimators': 79}</td>\n",
       "      <td>0.898110</td>\n",
       "      <td>0.897739</td>\n",
       "      <td>0.898110</td>\n",
       "      <td>0.897649</td>\n",
       "      <td>0.897719</td>\n",
       "      <td>0.897865</td>\n",
       "      <td>0.000202</td>\n",
       "      <td>6</td>\n",
       "    </tr>\n",
       "    <tr>\n",
       "      <th>5</th>\n",
       "      <td>475.908795</td>\n",
       "      <td>130.507445</td>\n",
       "      <td>3.313243</td>\n",
       "      <td>0.822666</td>\n",
       "      <td>20</td>\n",
       "      <td>80</td>\n",
       "      <td>{'max_depth': 20, 'n_estimators': 80}</td>\n",
       "      <td>0.897935</td>\n",
       "      <td>0.897829</td>\n",
       "      <td>0.898351</td>\n",
       "      <td>0.897819</td>\n",
       "      <td>0.897739</td>\n",
       "      <td>0.897935</td>\n",
       "      <td>0.000217</td>\n",
       "      <td>5</td>\n",
       "    </tr>\n",
       "  </tbody>\n",
       "</table>\n",
       "</div>"
      ],
      "text/plain": [
       "   mean_fit_time  std_fit_time  mean_score_time  std_score_time  \\\n",
       "0     424.272573      7.380152         4.340239        0.907204   \n",
       "1     438.983168      5.907141         3.873370        0.517895   \n",
       "2     442.685777      4.437210         4.736233        0.944369   \n",
       "3     461.834002      8.045891         5.188608        1.163245   \n",
       "4     485.928162     53.796046         5.614854        1.418159   \n",
       "5     475.908795    130.507445         3.313243        0.822666   \n",
       "\n",
       "  param_max_depth param_n_estimators                                 params  \\\n",
       "0              18                 79  {'max_depth': 18, 'n_estimators': 79}   \n",
       "1              18                 80  {'max_depth': 18, 'n_estimators': 80}   \n",
       "2              19                 79  {'max_depth': 19, 'n_estimators': 79}   \n",
       "3              19                 80  {'max_depth': 19, 'n_estimators': 80}   \n",
       "4              20                 79  {'max_depth': 20, 'n_estimators': 79}   \n",
       "5              20                 80  {'max_depth': 20, 'n_estimators': 80}   \n",
       "\n",
       "   split0_test_score  split1_test_score  split2_test_score  split3_test_score  \\\n",
       "0           0.898085           0.897920           0.898501           0.897839   \n",
       "1           0.898140           0.897990           0.898436           0.897920   \n",
       "2           0.897930           0.897905           0.898361           0.897689   \n",
       "3           0.898110           0.897754           0.898461           0.897839   \n",
       "4           0.898110           0.897739           0.898110           0.897649   \n",
       "5           0.897935           0.897829           0.898351           0.897819   \n",
       "\n",
       "   split4_test_score  mean_test_score  std_test_score  rank_test_score  \n",
       "0           0.897864         0.898042        0.000245                2  \n",
       "1           0.897960         0.898089        0.000189                1  \n",
       "2           0.898110         0.897999        0.000225                4  \n",
       "3           0.897844         0.898002        0.000259                3  \n",
       "4           0.897719         0.897865        0.000202                6  \n",
       "5           0.897739         0.897935        0.000217                5  "
      ]
     },
     "execution_count": 180,
     "metadata": {},
     "output_type": "execute_result"
    }
   ],
   "source": [
    "cv_results = pd.DataFrame(model.cv_results_)\n",
    "cv_results"
   ]
  },
  {
   "cell_type": "code",
   "execution_count": 188,
   "metadata": {},
   "outputs": [
    {
     "data": {
      "text/plain": [
       "{'max_depth': 18, 'n_estimators': 80}"
      ]
     },
     "execution_count": 188,
     "metadata": {},
     "output_type": "execute_result"
    }
   ],
   "source": [
    "model.best_params_"
   ]
  },
  {
   "cell_type": "code",
   "execution_count": 182,
   "metadata": {},
   "outputs": [
    {
     "name": "stdout",
     "output_type": "stream",
     "text": [
      "0.8997704030479245\n",
      "0.8983998395829156\n"
     ]
    }
   ],
   "source": [
    "acc_train = model.score(X_train, y_train)\n",
    "acc_test = model.score(X_test, y_test)\n",
    "print(acc_train)\n",
    "print(acc_test)"
   ]
  },
  {
   "cell_type": "code",
   "execution_count": 183,
   "metadata": {},
   "outputs": [
    {
     "data": {
      "image/png": "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",
      "text/plain": [
       "<Figure size 640x480 with 2 Axes>"
      ]
     },
     "metadata": {},
     "output_type": "display_data"
    }
   ],
   "source": [
    "ConfusionMatrixDisplay.from_estimator(model, X_test, y_test);"
   ]
  },
  {
   "cell_type": "code",
   "execution_count": 184,
   "metadata": {},
   "outputs": [
    {
     "name": "stdout",
     "output_type": "stream",
     "text": [
      "              precision    recall  f1-score   support\n",
      "\n",
      "           0       0.95      0.38      0.55     39733\n",
      "           1       0.89      1.00      0.94    209617\n",
      "\n",
      "    accuracy                           0.90    249350\n",
      "   macro avg       0.92      0.69      0.74    249350\n",
      "weighted avg       0.90      0.90      0.88    249350\n",
      "\n"
     ]
    }
   ],
   "source": [
    "print(classification_report(y_test, model.predict(X_test)))"
   ]
  },
  {
   "cell_type": "code",
   "execution_count": 186,
   "metadata": {},
   "outputs": [
    {
     "data": {
      "application/vnd.jupyter.widget-view+json": {
       "model_id": "980ab61e5ced4a4cae505532fc1c9da1",
       "version_major": 2,
       "version_minor": 0
      },
      "text/plain": [
       "FloatSlider(value=0.5, continuous_update=False, description='Threshold:', max=1.0)"
      ]
     },
     "metadata": {},
     "output_type": "display_data"
    },
    {
     "data": {
      "application/vnd.jupyter.widget-view+json": {
       "model_id": "b0e52d18430b4ba08b69def055217101",
       "version_major": 2,
       "version_minor": 0
      },
      "text/plain": [
       "HBox(children=(Output(layout=Layout(height='300px', width='300px')), VBox(children=(Output(layout=Layout(heigh…"
      ]
     },
     "metadata": {},
     "output_type": "display_data"
    }
   ],
   "source": [
    "c = ConfusionMatrixWidget(model, X_test, y_test)\n",
    "c.show()"
   ]
  },
  {
   "cell_type": "code",
   "execution_count": 187,
   "metadata": {},
   "outputs": [
    {
     "data": {
      "application/vnd.jupyter.widget-view+json": {
       "model_id": "bb04c642723a457cb63192a0a4e3d38a",
       "version_major": 2,
       "version_minor": 0
      },
      "text/plain": [
       "FloatSlider(value=0.5, continuous_update=False, description='Threshold:', max=1.0)"
      ]
     },
     "metadata": {},
     "output_type": "display_data"
    },
    {
     "data": {
      "application/vnd.jupyter.widget-view+json": {
       "model_id": "a64f1c0ab69a4e4ca2f3b86c33276ca4",
       "version_major": 2,
       "version_minor": 0
      },
      "text/plain": [
       "HBox(children=(Output(layout=Layout(height='300px', width='300px')), VBox(children=(Output(layout=Layout(heigh…"
      ]
     },
     "metadata": {},
     "output_type": "display_data"
    }
   ],
   "source": [
    "c.show_eu()"
   ]
  },
  {
   "cell_type": "code",
   "execution_count": 194,
   "metadata": {},
   "outputs": [
    {
     "data": {
      "text/plain": [
       "missed_bytes     0.000039\n",
       "resp_pkts        0.036946\n",
       "resp_ip_bytes    0.040123\n",
       "orig_pkts        0.065555\n",
       "orig_bytes       0.076884\n",
       "Unnamed: 0       0.081308\n",
       "resp_bytes       0.098822\n",
       "orig_ip_bytes    0.212450\n",
       "duration         0.387874\n",
       "dtype: float64"
      ]
     },
     "execution_count": 194,
     "metadata": {},
     "output_type": "execute_result"
    }
   ],
   "source": [
    "#Communicating Model results\n",
    "\n",
    "#Get feature names from training data\n",
    "features = X_train.columns\n",
    "\n",
    "#Extract Feature Importances from model\n",
    "importances = model.best_estimator_.feature_importances_\n",
    "\n",
    "#Create a Series with feature name and importances\n",
    "feat_imp = pd.Series(importances, index=features).sort_values()\n",
    "feat_imp"
   ]
  },
  {
   "cell_type": "code",
   "execution_count": 197,
   "metadata": {},
   "outputs": [
    {
     "data": {
      "image/png": "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",
      "text/plain": [
       "<Figure size 640x480 with 1 Axes>"
      ]
     },
     "metadata": {},
     "output_type": "display_data"
    }
   ],
   "source": [
    "#Plotting the Important Features\n",
    "feat_imp.plot(kind=\"bar\")\n",
    "plt.xlabel(\"Features\")\n",
    "plt.ylabel(\"feat_imp\")\n",
    "plt.title(\"Feature Importances\");"
   ]
  },
  {
   "cell_type": "code",
   "execution_count": 199,
   "metadata": {},
   "outputs": [],
   "source": [
    "# Save Model\n",
    "with open(\"IOTMaliciousDect.pkl\", \"wb\") as f:\n",
    "    pickle.dump(model, f)\n"
   ]
  },
 ],
 "metadata": {
  "kernelspec": {
   "display_name": "Python 3",
   "language": "python",
   "name": "python3"
  },
  "language_info": {
   "codemirror_mode": {
    "name": "ipython",
    "version": 3
   },
   "file_extension": ".py",
   "mimetype": "text/x-python",
   "name": "python",
   "nbconvert_exporter": "python",
   "pygments_lexer": "ipython3",
   "version": "3.11.1"
  },
  "orig_nbformat": 4,
  "vscode": {
   "interpreter": {
    "hash": "aee8b7b246df8f9039afb4144a1f6fd8d2ca17a180786b69acc140d282b71a49"
   }
  }
 },
 "nbformat": 4,
 "nbformat_minor": 2
}
